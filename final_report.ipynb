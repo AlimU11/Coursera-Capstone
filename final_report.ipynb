{
 "cells": [
  {
   "cell_type": "markdown",
   "id": "b1bcf480-cf7d-40c4-8e71-189ba1eb9940",
   "metadata": {},
   "source": [
    "# 1. Introduction"
   ]
  },
  {
   "cell_type": "markdown",
   "id": "6b7a0cb2-d6da-49e6-b472-a712bb914b76",
   "metadata": {},
   "source": [
    "## 1.1 Background "
   ]
  },
  {
   "cell_type": "markdown",
   "id": "3854c2a1-6dc2-4bf8-9b34-a5cef17f62e6",
   "metadata": {},
   "source": [
    "Almost everyone have experienced a period of searching for a new house. There are many different options and sources to search for, which inundate with amount of data. Knowning that, how can we using data science find suitable housing?"
   ]
  },
  {
   "cell_type": "markdown",
   "id": "016ac596-9873-4dfa-aabb-7088dd89dce7",
   "metadata": {},
   "source": [
    "## 1.2 Problem"
   ]
  },
  {
   "cell_type": "markdown",
   "id": "e548caa8-7a69-4e86-b0fc-aa50240f6a48",
   "metadata": {},
   "source": [
    "Let's find housing for the one who received job offer in London. He has some specific need regarding nearby venues, that should be taken into account during choosing housing.\n",
    "\n",
    "Based on definition of our problem, factors that will influence our decision are:\n",
    "- apartment's cost should not exceed 2500 british pounds\n",
    "- apartment must have at least 2 bedrooms\n",
    "- apartment must have at least 2 bathrooms\n",
    "- apartment must be not further than 5 km form the workplace\n",
    "- apartment must be not further than 0.5 km from the gym\n",
    "- apartment must be not further than 1.5 km from the laundary\n",
    "- apartment must be not further than 0.7 km cosmetic shop"
   ]
  },
  {
   "cell_type": "markdown",
   "id": "72b1791c-9262-4414-ba98-5cde6dc45115",
   "metadata": {},
   "source": [
    "## 1.3 Interest"
   ]
  },
  {
   "cell_type": "markdown",
   "id": "860faf35-50d3-4922-9e09-aa8132309bae",
   "metadata": {},
   "source": [
    "This project is targeted to everyone that might be interested to know more about rent prices of London apartment. Moreover, this approach can be generalised and used to apply different filters in order to satisfy needs of anyone who moving to London"
   ]
  },
  {
   "cell_type": "markdown",
   "id": "cc982ed9-ca03-41f3-b106-782cc5515e9d",
   "metadata": {},
   "source": [
    "# 2. Data"
   ]
  },
  {
   "cell_type": "markdown",
   "id": "83e91881-b103-41d3-ba53-4519d5ccb400",
   "metadata": {},
   "source": [
    "## 2.1 Data Sources"
   ]
  },
  {
   "cell_type": "markdown",
   "id": "4dcda905-e611-46ec-bb43-a50b425f1116",
   "metadata": {},
   "source": [
    "Following data sources will be needed to extract/generate the required information:\n",
    "\n",
    "- coordinate of workplace will be obtained using **geocoder**\n",
    "- economical and location data of rental properties around the workplace will be obtained through webscraping of a major online portal\n",
    "- nearby venues around each neighborhood will be obtained using **Foursquare API**\n",
    "\n",
    "From properties data could be extracted:\n",
    "- `id`\n",
    "- `rent value`\n",
    "- `bedrooms`\n",
    "- `bathrooms`\n",
    "- `latitude`\n",
    "- `longitude`\n",
    "- `distance to nearest station`\n",
    "\n",
    "From the Foursquare API could be extracted:\n",
    "- `Venue`\n",
    "- `Name of the venue`\n",
    "- `Venue Latitude`\n",
    "- `Venue Longitude`\n",
    "- `Venue Category`"
   ]
  },
  {
   "cell_type": "markdown",
   "id": "8a82d296-947c-4f59-9241-8c8303817ffa",
   "metadata": {},
   "source": [
    "## 2.2 Data Cleaning"
   ]
  },
  {
   "cell_type": "markdown",
   "id": "4885640a-4dda-4a8d-8eda-101ad2793c1c",
   "metadata": {},
   "source": [
    "The data scrapped from online portal was for the whole London. All the data was ready to use only small changes were required, such as changing price type from string to int or calculating distance in km."
   ]
  },
  {
   "cell_type": "markdown",
   "id": "a4a46a57-d251-48ef-ad54-0abd9a55b76a",
   "metadata": {},
   "source": [
    "![title](images/data_uncleaned.jpg)"
   ]
  },
  {
   "cell_type": "markdown",
   "id": "62dfb8ec-13c9-4777-aa64-8188018bb759",
   "metadata": {},
   "source": [
    "# 3. Methodology"
   ]
  },
  {
   "cell_type": "markdown",
   "id": "1bbc63a1-b366-4e51-8d38-a93200502cc6",
   "metadata": {},
   "source": [
    "## 3.1 Extracting specific venues"
   ]
  },
  {
   "cell_type": "markdown",
   "id": "a758cab8-f631-414c-bbd6-2ec12c9005c3",
   "metadata": {},
   "source": [
    "To extract the venues, first were taken unique postcodes from apartments dataset. Based on these postcodes, by using function to access the Foursquare API, were return nearest venues of each type for each postcode. The Foursquare API returned the venue name, latitude, longitude and its category. \n",
    "\n",
    "Results below representing distribution of venues across London (blue - `laundries`, red - `cosmetics`, yellow - `gyms`)"
   ]
  },
  {
   "cell_type": "markdown",
   "id": "346f423f-ae23-4a7d-b2da-7a89e0f8c592",
   "metadata": {},
   "source": [
    "![title](images/venues_visualisation.jpg)"
   ]
  },
  {
   "cell_type": "markdown",
   "id": "4a69df8a-f67c-4078-9399-403660bdddd4",
   "metadata": {},
   "source": [
    "## 3.2 Grouping rental records with nearest venues"
   ]
  },
  {
   "cell_type": "markdown",
   "id": "06260898-9b24-4d8c-a9ac-1cb913470289",
   "metadata": {},
   "source": [
    "Venues results were combined with apartment data and consequently calculated distances for each record. Then, the records with minimal distance for each apartment were extracted and merged to apartments' dataset. "
   ]
  },
  {
   "cell_type": "markdown",
   "id": "6933e416-141b-4699-8c7d-d757f0e96237",
   "metadata": {},
   "source": [
    "![title](images/data_with_nearest_venues.jpg)"
   ]
  },
  {
   "cell_type": "markdown",
   "id": "7f9db7c7-cbfb-47c2-b3f6-93686994ced2",
   "metadata": {},
   "source": [
    "## 3.3 Filtering results"
   ]
  },
  {
   "cell_type": "markdown",
   "id": "878360b6-f99d-43bf-b228-e8f402add789",
   "metadata": {},
   "source": [
    "Based on initial conditions, results were filtered correspondingly:\n",
    "- `price` <= 2500\n",
    "- `bedrooms` >= 2\n",
    "- `bathrooms` >= 2\n",
    "- `workpace distance` <= 5\n",
    "- `gym distance` <= 0.5\n",
    "- `laundry distance` <= 1.5\n",
    "- `cosmetic shop distance` <= 0.7"
   ]
  },
  {
   "cell_type": "markdown",
   "id": "65d2689a-7e88-4f24-a112-df2a009161e6",
   "metadata": {},
   "source": [
    "![title](images/final_results.jpg)"
   ]
  },
  {
   "cell_type": "markdown",
   "id": "83f07a76-069b-4e2d-88c2-044413c5476d",
   "metadata": {},
   "source": [
    "## 3.4 Final dataset"
   ]
  },
  {
   "cell_type": "markdown",
   "id": "9e3ab335-3e0a-4ddd-a5b3-8a20262b37ca",
   "metadata": {},
   "source": [
    "With the social and economical data provided was created single dataset with potential apartments including both information about apartments and information about corresponding required neareast venues."
   ]
  },
  {
   "cell_type": "markdown",
   "id": "b119303f-21fe-4072-afe4-32edd2141092",
   "metadata": {},
   "source": [
    "![title](images/final_dataset.jpg)"
   ]
  },
  {
   "cell_type": "markdown",
   "id": "99890a14-2170-4a4e-882a-05985cb3bf2c",
   "metadata": {},
   "source": [
    "# 4. Results and discussion"
   ]
  },
  {
   "cell_type": "markdown",
   "id": "fce63dc4-5584-4650-ae44-6c63e3efe451",
   "metadata": {},
   "source": [
    "The analysis show that although there are a great number of apartments in the original dataset, just a few fits the profile.\n",
    "\n",
    "To generate final dataset, every apartment id and coordinates were combined with the information of the nearest venues of interest. To get the final result, the combining result was filtered and consequently were picked only minimal distances to each venue for each apartment.\n",
    "\n",
    "To find potencial apartments, the final dataset was filtered regarded as number of bedrooms and bathrooms, minimum distance from venues such as gym, cosmetics shop and laundry, maximum monthly rent value. The filter was very effective, filtering approximately 98,8% of the results."
   ]
  },
  {
   "cell_type": "markdown",
   "id": "8a045bf6-fb29-452c-9872-9eaebf07292e",
   "metadata": {},
   "source": [
    "# 5. Conclusion"
   ]
  },
  {
   "cell_type": "markdown",
   "id": "8e623766-f767-44bc-856e-a957da148009",
   "metadata": {},
   "source": [
    "The objective of this project was to find the best apartment for rent in London that fits the profile. By filtering data of apartments and extracting the social and economic data for each neighbourhood, was generated a concentrated dataset with the most promising apartments to live in.\n",
    "\n",
    "The project was helpful to filter the great number of apartments and finding specific features for each of them. Data of quality of life, criminality, urban mobility etc was not taken into consideration and could be interesting indicators to look after in next projects to improve the analysis."
   ]
  },
  {
   "cell_type": "code",
   "execution_count": null,
   "id": "3e44b3b4-47b1-4db2-a1b9-3f9ddc03f0db",
   "metadata": {},
   "outputs": [],
   "source": []
  }
 ],
 "metadata": {
  "kernelspec": {
   "display_name": "Python 3",
   "language": "python",
   "name": "python3"
  },
  "language_info": {
   "codemirror_mode": {
    "name": "ipython",
    "version": 3
   },
   "file_extension": ".py",
   "mimetype": "text/x-python",
   "name": "python",
   "nbconvert_exporter": "python",
   "pygments_lexer": "ipython3",
   "version": "3.8.10"
  }
 },
 "nbformat": 4,
 "nbformat_minor": 5
}
